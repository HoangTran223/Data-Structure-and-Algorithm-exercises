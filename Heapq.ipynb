{
 "cells": [
  {
   "cell_type": "markdown",
   "metadata": {},
   "source": [
    "Module: heapq\n",
    "\n",
    "Hàng đợi ưu tiên: được dùng phổ biến để tối đa hóa thực hiện 1 tác vụ, trong đó nhiệm vụ chính là thực hiện tác vụ với độ ưu tiên cao. \n",
    "Sau 1 nhiệm vụ được hoàn thành, độ ưu tiên của phần tử của nó giảm xuống, và nó được đưa về hàng đợi.\n",
    "\n",
    "Cấu trúc heap được sử dụng để thể hiện hàng đợi ưu tiên (priority queue) như 1 cây nhị phân hoàn chỉnh\n",
    "+ Trong 1 heap, giá trị của 1 node bất kỳ luôn nhỏ hơn node con.\n",
    "+ Để push 1 phần tử vào heap, Python sẽ thêm 1 node mới vào cuối. Sau đó so sánh nó với cha của nó. Nếu nó vi phạm\n",
    "thuộc tính, thì 2 node đổi chỗ, và tiếp tục kiểm tra.\n",
    "\n",
    "Thuộc tính: phần tử heap nhỏ nhất sẽ được ưu tiên cao nhất, tức sẽ được pop đầu tiên. Mỗi khi có phần tử push hoặc pop, \n",
    "cấu trúc heap vẫn được duy trì. Heap[0] trả về phần tử nhỏ nhất mỗi lần.\n",
    "\n",
    "Ứng dụng của hàng đợi ưu tiên: chọn 5 bài đăng nhiều lượt tương tác nhất trong dữ liệu, lập lịch gửi mail dựa vào tần suất,...\n",
    "\n",
    "Tính chất: với h[k] thì:\n",
    "+ Con đầu tiên (nếu có) ở vị trí 2k + 1\n",
    "+ Con thứ hai (nếu có) ở vị trí 2k + 2\n",
    "+ Cha của nó ở vị trí (k-1)//2\n",
    "+ Từ trên ta có bđt h[k] <= min{h[2k + 1], h[2k +2]}"
   ]
  },
  {
   "cell_type": "code",
   "execution_count": 65,
   "metadata": {},
   "outputs": [
    {
     "name": "stdout",
     "output_type": "stream",
     "text": [
      "[1, 3, 9, 7, 5]\n",
      "[1, 2, 3, 5, 6, 8, 7]\n"
     ]
    }
   ],
   "source": [
    "# Heapify(): biến 1 danh sách thành 1 list hợp lệ\n",
    "\n",
    "import heapq\n",
    "list1 = [5, 7, 9, 1, 3]\n",
    "list2 = [1, 2, 3, 5, 6, 8, 7]\n",
    "heapq.heapify(list1)            \n",
    "heapq.heapify(list2)            \n",
    "print(list1)\n",
    "print(list2)"
   ]
  },
  {
   "cell_type": "code",
   "execution_count": 66,
   "metadata": {},
   "outputs": [
    {
     "name": "stdout",
     "output_type": "stream",
     "text": [
      "1\n",
      "[3, 5, 9, 7]\n",
      "[2, 5, 3, 7, 6, 8]\n"
     ]
    }
   ],
   "source": [
    "# Heappop(): để pop phần tử nhỏ nhất (chính là h[0]) mà vẫn đảm bảo tính chất của heap còn lại\n",
    "\n",
    "import heapq\n",
    "list1 = [5, 7, 9, 1, 3]\n",
    "list2 = [1, 2, 3, 5, 6, 8, 7]\n",
    "heapq.heapify(list1)            \n",
    "heapq.heapify(list2)   \n",
    "\n",
    "print(heapq.heappop(list1))\n",
    "heapq.heappop(list2)\n",
    "print(list1)\n",
    "print(list2)"
   ]
  },
  {
   "cell_type": "code",
   "execution_count": 67,
   "metadata": {},
   "outputs": [
    {
     "name": "stdout",
     "output_type": "stream",
     "text": [
      "[1, 3, 3, 7, 5, 9]\n",
      "[1, 2, 3, 4, 6, 8, 7, 5]\n"
     ]
    }
   ],
   "source": [
    "# Heappush(): push 1 phần tử vào heap mà vẫn đảm bảo tính chất của heap mới\n",
    "\n",
    "import heapq\n",
    "list1 = [5, 7, 9, 1, 3]\n",
    "list2 = [1, 2, 3, 5, 6, 8, 7]\n",
    "heapq.heapify(list1)            \n",
    "heapq.heapify(list2)   \n",
    "\n",
    "heapq.heappush(list1, 3)           # Cây không phân biệt phần tử\n",
    "heapq.heappush(list2, 4)\n",
    "print(list1)\n",
    "print(list2)"
   ]
  },
  {
   "cell_type": "code",
   "execution_count": 68,
   "metadata": {},
   "outputs": [
    {
     "name": "stdout",
     "output_type": "stream",
     "text": [
      "1\n",
      "[1, 2, 3, 5, 6, 8, 7]\n"
     ]
    }
   ],
   "source": [
    "# Heappushpop(): kết hợp push, rồi pop trong 1 câu lệnh, vẫn duy trì heap\n",
    "\n",
    "import heapq\n",
    "list1 = [5, 7, 9, 1, 3]\n",
    "list2 = [1, 2, 3, 5, 6, 8, 7]\n",
    "heapq.heapify(list1)            \n",
    "heapq.heapify(list2)   \n",
    "\n",
    "print(heapq.heappushpop(list1, 10))\n",
    "heapq.heappushpop(list2, 0)\n",
    "print(list2)\n"
   ]
  },
  {
   "cell_type": "code",
   "execution_count": 69,
   "metadata": {},
   "outputs": [
    {
     "name": "stdout",
     "output_type": "stream",
     "text": [
      "3\n",
      "[2, 4, 9, 5, 7]\n"
     ]
    }
   ],
   "source": [
    "# Heapreplace(): trả về giá trị nhỏ nhất ban đầu trong heap, bất kể phần tử được push vào là gì\n",
    "\n",
    "import heapq\n",
    "list1 = [5, 7, 9, 4, 3]\n",
    "heapq.heapify(list1)\n",
    "\n",
    "print(heapq.heapreplace(list1, 2))\n",
    "print(list1)"
   ]
  },
  {
   "cell_type": "code",
   "execution_count": 70,
   "metadata": {},
   "outputs": [
    {
     "name": "stdout",
     "output_type": "stream",
     "text": [
      "[6, 8, 12]\n",
      "[2, 6, 8]\n"
     ]
    }
   ],
   "source": [
    "# nlargest(k, iterable, key = func): trả về k phần tử lớn nhất từ iterable và đáp ứng func nếu có\n",
    "\n",
    "import heapq\n",
    "list1 = [5, 7, 9, 1, 3, 8, 6, 12]\n",
    "list2 = [1, 2, 3, 5, 6, 8, 7]\n",
    "heapq.heapify(list1)            \n",
    "heapq.heapify(list2)   \n",
    "\n",
    "print(heapq.nlargest(3, list1,  key = lambda x: x % 2 == 0))\n",
    "print(heapq.nsmallest(3, list2,  key = lambda x: x % 2 == 1))  # Hàm smallest thì kiểm tra đk ngược của hàm func\n"
   ]
  }
 ],
 "metadata": {
  "kernelspec": {
   "display_name": "Python 3",
   "language": "python",
   "name": "python3"
  },
  "language_info": {
   "codemirror_mode": {
    "name": "ipython",
    "version": 3
   },
   "file_extension": ".py",
   "mimetype": "text/x-python",
   "name": "python",
   "nbconvert_exporter": "python",
   "pygments_lexer": "ipython3",
   "version": "3.11.6"
  }
 },
 "nbformat": 4,
 "nbformat_minor": 2
}
